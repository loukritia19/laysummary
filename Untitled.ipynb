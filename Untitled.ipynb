{
 "cells": [
  {
   "cell_type": "markdown",
   "id": "3e28efed-8cbd-454f-b11e-404e0d2940ad",
   "metadata": {},
   "source": [
    "# Install/import libraries"
   ]
  },
  {
   "cell_type": "code",
   "execution_count": 1,
   "id": "fc60d9d2-07b8-4383-bed5-8df87cf9dfbd",
   "metadata": {},
   "outputs": [],
   "source": [
    "#!pip install transformers[sentencepiece] datasets sacrebleu rouge_score py7zr -q\n",
    "#!pip install transformers\n",
    "#!pip install bert_score\n",
    "#!pip install textstat"
   ]
  },
  {
   "cell_type": "code",
   "execution_count": 17,
   "id": "201fd809-db52-49b7-bc51-4d1438b410d7",
   "metadata": {},
   "outputs": [],
   "source": [
    "from transformers import pipeline, set_seed\n",
    "import matplotlib.pyplot as plt\n",
    "import pandas as pd\n",
    "from transformers import AutoModelForSeq2SeqLM, AutoTokenizer, BartTokenizerFast, BartForConditionalGeneration\n",
    "import nltk\n",
    "from nltk.tokenize import sent_tokenize\n",
    "from tqdm import tqdm\n",
    "import torch\n",
    "from datasets import load_dataset, load_metric\n",
    "import textstat\n",
    "from transformers import Seq2SeqTrainingArguments, Trainer, Seq2SeqTrainer\n",
    "from transformers import DataCollatorForSeq2Seq\n",
    "import os"
   ]
  },
  {
   "cell_type": "markdown",
   "id": "fd8e70d0-e74e-47a0-8aa3-724524b376f1",
   "metadata": {},
   "source": [
    "# Load data"
   ]
  },
  {
   "cell_type": "code",
   "execution_count": 3,
   "id": "15cd9179-ef63-4055-8f06-3b58cfd87142",
   "metadata": {},
   "outputs": [],
   "source": [
    "train_key='train.json'\n",
    "test_key='test.json'\n",
    "val_key='val.json'"
   ]
  },
  {
   "cell_type": "code",
   "execution_count": 4,
   "id": "a4a14854-ffd8-4692-9fde-124d30fb9942",
   "metadata": {},
   "outputs": [],
   "source": [
    "data_location = 'data/'"
   ]
  },
  {
   "cell_type": "code",
   "execution_count": 5,
   "id": "c41ad6dd-cfdb-4027-9384-ad99cd6719bf",
   "metadata": {},
   "outputs": [
    {
     "name": "stdout",
     "output_type": "stream",
     "text": [
      "Train Shape:  (4346, 8)\n"
     ]
    },
    {
     "data": {
      "text/html": [
       "<div>\n",
       "<style scoped>\n",
       "    .dataframe tbody tr th:only-of-type {\n",
       "        vertical-align: middle;\n",
       "    }\n",
       "\n",
       "    .dataframe tbody tr th {\n",
       "        vertical-align: top;\n",
       "    }\n",
       "\n",
       "    .dataframe thead th {\n",
       "        text-align: right;\n",
       "    }\n",
       "</style>\n",
       "<table border=\"1\" class=\"dataframe\">\n",
       "  <thead>\n",
       "    <tr style=\"text-align: right;\">\n",
       "      <th></th>\n",
       "      <th>id</th>\n",
       "      <th>year</th>\n",
       "      <th>title</th>\n",
       "      <th>sections</th>\n",
       "      <th>headings</th>\n",
       "      <th>abstract</th>\n",
       "      <th>summary</th>\n",
       "      <th>keywords</th>\n",
       "    </tr>\n",
       "  </thead>\n",
       "  <tbody>\n",
       "    <tr>\n",
       "      <th>0</th>\n",
       "      <td>elife-35500-v1</td>\n",
       "      <td>2018</td>\n",
       "      <td>National and regional seasonal dynamics of all...</td>\n",
       "      <td>[[It is well-established that death rates vary...</td>\n",
       "      <td>[Introduction, Results, Discussion, Materials ...</td>\n",
       "      <td>[In temperate climates , winter deaths exceed ...</td>\n",
       "      <td>[In the USA , more deaths happen in the winter...</td>\n",
       "      <td>[epidemiology and global health]</td>\n",
       "    </tr>\n",
       "  </tbody>\n",
       "</table>\n",
       "</div>"
      ],
      "text/plain": [
       "               id  year                                              title  \\\n",
       "0  elife-35500-v1  2018  National and regional seasonal dynamics of all...   \n",
       "\n",
       "                                            sections  \\\n",
       "0  [[It is well-established that death rates vary...   \n",
       "\n",
       "                                            headings  \\\n",
       "0  [Introduction, Results, Discussion, Materials ...   \n",
       "\n",
       "                                            abstract  \\\n",
       "0  [In temperate climates , winter deaths exceed ...   \n",
       "\n",
       "                                             summary  \\\n",
       "0  [In the USA , more deaths happen in the winter...   \n",
       "\n",
       "                           keywords  \n",
       "0  [epidemiology and global health]  "
      ]
     },
     "execution_count": 5,
     "metadata": {},
     "output_type": "execute_result"
    }
   ],
   "source": [
    "# Train\n",
    "train_data=pd.read_json(f'{data_location}{train_key}')\n",
    "print(\"Train Shape: \", train_data.shape)\n",
    "train_data.head(1)"
   ]
  },
  {
   "cell_type": "code",
   "execution_count": 6,
   "id": "cdb5be40-ffac-4d95-b646-4ba57958db6d",
   "metadata": {},
   "outputs": [
    {
     "name": "stdout",
     "output_type": "stream",
     "text": [
      "Val Shape:  (241, 8)\n"
     ]
    },
    {
     "data": {
      "text/html": [
       "<div>\n",
       "<style scoped>\n",
       "    .dataframe tbody tr th:only-of-type {\n",
       "        vertical-align: middle;\n",
       "    }\n",
       "\n",
       "    .dataframe tbody tr th {\n",
       "        vertical-align: top;\n",
       "    }\n",
       "\n",
       "    .dataframe thead th {\n",
       "        text-align: right;\n",
       "    }\n",
       "</style>\n",
       "<table border=\"1\" class=\"dataframe\">\n",
       "  <thead>\n",
       "    <tr style=\"text-align: right;\">\n",
       "      <th></th>\n",
       "      <th>id</th>\n",
       "      <th>year</th>\n",
       "      <th>title</th>\n",
       "      <th>sections</th>\n",
       "      <th>headings</th>\n",
       "      <th>abstract</th>\n",
       "      <th>summary</th>\n",
       "      <th>keywords</th>\n",
       "    </tr>\n",
       "  </thead>\n",
       "  <tbody>\n",
       "    <tr>\n",
       "      <th>0</th>\n",
       "      <td>elife-15477-v3</td>\n",
       "      <td>2016</td>\n",
       "      <td>Increasing Notch signaling antagonizes PRC2-me...</td>\n",
       "      <td>[[Cell-fate decisions are controlled , on the ...</td>\n",
       "      <td>[Introduction, Results, Discussion, Materials ...</td>\n",
       "      <td>[Cell-fate reprograming is at the heart of dev...</td>\n",
       "      <td>[The DNA in genes encodes the basic informatio...</td>\n",
       "      <td>[developmental biology]</td>\n",
       "    </tr>\n",
       "  </tbody>\n",
       "</table>\n",
       "</div>"
      ],
      "text/plain": [
       "               id  year                                              title  \\\n",
       "0  elife-15477-v3  2016  Increasing Notch signaling antagonizes PRC2-me...   \n",
       "\n",
       "                                            sections  \\\n",
       "0  [[Cell-fate decisions are controlled , on the ...   \n",
       "\n",
       "                                            headings  \\\n",
       "0  [Introduction, Results, Discussion, Materials ...   \n",
       "\n",
       "                                            abstract  \\\n",
       "0  [Cell-fate reprograming is at the heart of dev...   \n",
       "\n",
       "                                             summary                 keywords  \n",
       "0  [The DNA in genes encodes the basic informatio...  [developmental biology]  "
      ]
     },
     "execution_count": 6,
     "metadata": {},
     "output_type": "execute_result"
    }
   ],
   "source": [
    "# Val\n",
    "val_data=pd.read_json(f'{data_location}{val_key}')\n",
    "print(\"Val Shape: \", val_data.shape)\n",
    "val_data.head(1)"
   ]
  },
  {
   "cell_type": "code",
   "execution_count": 7,
   "id": "f4366954-942b-4364-b79a-0fee1d558675",
   "metadata": {},
   "outputs": [
    {
     "name": "stdout",
     "output_type": "stream",
     "text": [
      "Test Shape:  (241, 8)\n"
     ]
    },
    {
     "data": {
      "text/html": [
       "<div>\n",
       "<style scoped>\n",
       "    .dataframe tbody tr th:only-of-type {\n",
       "        vertical-align: middle;\n",
       "    }\n",
       "\n",
       "    .dataframe tbody tr th {\n",
       "        vertical-align: top;\n",
       "    }\n",
       "\n",
       "    .dataframe thead th {\n",
       "        text-align: right;\n",
       "    }\n",
       "</style>\n",
       "<table border=\"1\" class=\"dataframe\">\n",
       "  <thead>\n",
       "    <tr style=\"text-align: right;\">\n",
       "      <th></th>\n",
       "      <th>id</th>\n",
       "      <th>year</th>\n",
       "      <th>title</th>\n",
       "      <th>sections</th>\n",
       "      <th>headings</th>\n",
       "      <th>abstract</th>\n",
       "      <th>summary</th>\n",
       "      <th>keywords</th>\n",
       "    </tr>\n",
       "  </thead>\n",
       "  <tbody>\n",
       "    <tr>\n",
       "      <th>0</th>\n",
       "      <td>elife-37443-v3</td>\n",
       "      <td>2018</td>\n",
       "      <td>Cerebellar implementation of movement sequence...</td>\n",
       "      <td>[[Most movements are comprised of sequences .,...</td>\n",
       "      <td>[Introduction, Results, Discussion, Materials ...</td>\n",
       "      <td>[Most movements are not unitary , but are comp...</td>\n",
       "      <td>[Imagine a gymnastics competition in which par...</td>\n",
       "      <td>[neuroscience]</td>\n",
       "    </tr>\n",
       "  </tbody>\n",
       "</table>\n",
       "</div>"
      ],
      "text/plain": [
       "               id  year                                              title  \\\n",
       "0  elife-37443-v3  2018  Cerebellar implementation of movement sequence...   \n",
       "\n",
       "                                            sections  \\\n",
       "0  [[Most movements are comprised of sequences .,...   \n",
       "\n",
       "                                            headings  \\\n",
       "0  [Introduction, Results, Discussion, Materials ...   \n",
       "\n",
       "                                            abstract  \\\n",
       "0  [Most movements are not unitary , but are comp...   \n",
       "\n",
       "                                             summary        keywords  \n",
       "0  [Imagine a gymnastics competition in which par...  [neuroscience]  "
      ]
     },
     "execution_count": 7,
     "metadata": {},
     "output_type": "execute_result"
    }
   ],
   "source": [
    "# Test\n",
    "test_data=pd.read_json(f'{data_location}{test_key}')\n",
    "print(\"Test Shape: \", test_data.shape)\n",
    "test_data.head(1)"
   ]
  },
  {
   "cell_type": "markdown",
   "id": "bbe516d0-a0af-4942-8b40-04c2f3b9a07e",
   "metadata": {},
   "source": [
    "# Preprocessing"
   ]
  },
  {
   "cell_type": "code",
   "execution_count": 8,
   "id": "0660f358-f5fc-4f91-a3b4-7a8556494a55",
   "metadata": {},
   "outputs": [],
   "source": [
    "def reshape_dataframe(df, columns_to_keep):\n",
    "    \"\"\"\n",
    "    Reshapes a dataframe based on its 'sections' and 'headings' columns. Each unique heading\n",
    "    becomes a column in the reshaped dataframe, where the entries are the corresponding sections.\n",
    "\n",
    "    Parameters:\n",
    "    - df (pd.DataFrame): The input dataframe, which  have columns named 'id', 'sections',\n",
    "                         and 'headings' etc. The 'sections' column should contain lists of strings,\n",
    "                         while the 'headings' column should contain lists of headings corresponding\n",
    "                         to the sections.\n",
    "\n",
    "    - columns_to_keep (list of str): List of columns from the original dataframe that should\n",
    "                                     be retained in the final reshaped dataframe.\n",
    "\n",
    "    Returns:\n",
    "    - pd.DataFrame: A reshaped dataframe where each unique heading from the 'headings' column\n",
    "                    is now its own column. Original columns specified in 'columns_to_keep' are\n",
    "                    also retained.\n",
    "    \"\"\"\n",
    "\n",
    "    section_dicts = []\n",
    "    for index, row in df.iterrows():\n",
    "        temp_dict = {'id': row['id']}\n",
    "        row_headings = row['headings']\n",
    "\n",
    "        row_sections = row['sections']\n",
    "\n",
    "        for heading, section in zip(row_headings, row_sections):\n",
    "            temp_dict[heading] = section\n",
    "\n",
    "        section_dicts.append(temp_dict)\n",
    "\n",
    "    section_df = pd.DataFrame(section_dicts)\n",
    "    result_df = pd.merge(df, section_df, on='id', how='outer')\n",
    "    result_df.rename(columns={'summary': 'lay summary'}, inplace=True)\n",
    "    result_df = result_df[columns_to_keep]\n",
    "    result_df = result_df.dropna(subset=['Introduction', 'abstract'])\n",
    "    result_df = result_df.reset_index(drop=True)\n",
    "    return result_df"
   ]
  },
  {
   "cell_type": "code",
   "execution_count": 9,
   "id": "ff4a4889-fdd4-4755-b8e2-b547345e3f7a",
   "metadata": {},
   "outputs": [],
   "source": [
    "# The columns you want to keep BASED ON IITR:\n",
    "cols_to_keep = ['Introduction', 'abstract', 'lay summary']\n",
    "IITR_train_df = reshape_dataframe(train_data, cols_to_keep)\n",
    "IITR_val_df = reshape_dataframe(val_data, cols_to_keep)\n",
    "IITR_test_df = reshape_dataframe(test_data, cols_to_keep)"
   ]
  },
  {
   "cell_type": "markdown",
   "id": "1b5a9380-7843-43d3-add4-c9566b1da32c",
   "metadata": {},
   "source": [
    "## Combine Introduction & Abstract based on fragment"
   ]
  },
  {
   "cell_type": "code",
   "execution_count": 10,
   "id": "3d998b28-5c29-40ed-aa96-449c431790c7",
   "metadata": {},
   "outputs": [],
   "source": [
    "def combine_texts(row, k=0.6):\n",
    "    intro_part = row['Introduction'][:int(len(row['Introduction']) * k)]\n",
    "    return intro_part + row['abstract']"
   ]
  },
  {
   "cell_type": "code",
   "execution_count": 11,
   "id": "e0d6e513-34ec-4284-a621-0d3ac970911a",
   "metadata": {},
   "outputs": [],
   "source": [
    "IITR_train_df['intro_abstract_combined'] = IITR_train_df.apply(lambda row: combine_texts(row, k=0.6), axis=1)\n",
    "IITR_test_df['intro_abstract_combined'] = IITR_test_df.apply(lambda row: combine_texts(row, k=0.6), axis=1)\n",
    "IITR_val_df['intro_abstract_combined'] = IITR_val_df.apply(lambda row: combine_texts(row, k=0.6), axis=1)"
   ]
  },
  {
   "cell_type": "code",
   "execution_count": 12,
   "id": "02625ece-256a-483e-a946-3487d9de3422",
   "metadata": {},
   "outputs": [
    {
     "data": {
      "text/html": [
       "<div>\n",
       "<style scoped>\n",
       "    .dataframe tbody tr th:only-of-type {\n",
       "        vertical-align: middle;\n",
       "    }\n",
       "\n",
       "    .dataframe tbody tr th {\n",
       "        vertical-align: top;\n",
       "    }\n",
       "\n",
       "    .dataframe thead th {\n",
       "        text-align: right;\n",
       "    }\n",
       "</style>\n",
       "<table border=\"1\" class=\"dataframe\">\n",
       "  <thead>\n",
       "    <tr style=\"text-align: right;\">\n",
       "      <th></th>\n",
       "      <th>lay summary</th>\n",
       "      <th>intro_abstract_combined</th>\n",
       "    </tr>\n",
       "  </thead>\n",
       "  <tbody>\n",
       "    <tr>\n",
       "      <th>0</th>\n",
       "      <td>[In the USA , more deaths happen in the winter...</td>\n",
       "      <td>[It is well-established that death rates vary ...</td>\n",
       "    </tr>\n",
       "    <tr>\n",
       "      <th>1</th>\n",
       "      <td>[Most people have likely experienced the disco...</td>\n",
       "      <td>[Dysregulated complement activation is increas...</td>\n",
       "    </tr>\n",
       "    <tr>\n",
       "      <th>2</th>\n",
       "      <td>[The immune system protects an individual from...</td>\n",
       "      <td>[HOIL-1 ( encoded by the RBCK1 gene ) , HOIP (...</td>\n",
       "    </tr>\n",
       "    <tr>\n",
       "      <th>3</th>\n",
       "      <td>[The brain adapts to control our behavior in d...</td>\n",
       "      <td>[Flexible control of cognitive processes is fu...</td>\n",
       "    </tr>\n",
       "    <tr>\n",
       "      <th>4</th>\n",
       "      <td>[Cells use motor proteins that to move organel...</td>\n",
       "      <td>[Myosin 5a moves in a hand-over-hand fashion w...</td>\n",
       "    </tr>\n",
       "    <tr>\n",
       "      <th>...</th>\n",
       "      <td>...</td>\n",
       "      <td>...</td>\n",
       "    </tr>\n",
       "    <tr>\n",
       "      <th>4311</th>\n",
       "      <td>[To defend itself against bacteria and viruses...</td>\n",
       "      <td>[Antibodies are immunogenic proteins expressed...</td>\n",
       "    </tr>\n",
       "    <tr>\n",
       "      <th>4312</th>\n",
       "      <td>[DNA is tightly packaged in a material called ...</td>\n",
       "      <td>[The eukaryotic genome is packaged into chroma...</td>\n",
       "    </tr>\n",
       "    <tr>\n",
       "      <th>4313</th>\n",
       "      <td>[Associative learning is a simple learning abi...</td>\n",
       "      <td>[The temporal and spatial heterogeneity of any...</td>\n",
       "    </tr>\n",
       "    <tr>\n",
       "      <th>4314</th>\n",
       "      <td>[In 1848 , a railroad worker named Phineas Gag...</td>\n",
       "      <td>[Correlates of decision variables are routinel...</td>\n",
       "    </tr>\n",
       "    <tr>\n",
       "      <th>4315</th>\n",
       "      <td>[Medical imaging covers a wide range of techni...</td>\n",
       "      <td>[‘Precision medicine’ promotes the molecular c...</td>\n",
       "    </tr>\n",
       "  </tbody>\n",
       "</table>\n",
       "<p>4316 rows × 2 columns</p>\n",
       "</div>"
      ],
      "text/plain": [
       "                                            lay summary  \\\n",
       "0     [In the USA , more deaths happen in the winter...   \n",
       "1     [Most people have likely experienced the disco...   \n",
       "2     [The immune system protects an individual from...   \n",
       "3     [The brain adapts to control our behavior in d...   \n",
       "4     [Cells use motor proteins that to move organel...   \n",
       "...                                                 ...   \n",
       "4311  [To defend itself against bacteria and viruses...   \n",
       "4312  [DNA is tightly packaged in a material called ...   \n",
       "4313  [Associative learning is a simple learning abi...   \n",
       "4314  [In 1848 , a railroad worker named Phineas Gag...   \n",
       "4315  [Medical imaging covers a wide range of techni...   \n",
       "\n",
       "                                intro_abstract_combined  \n",
       "0     [It is well-established that death rates vary ...  \n",
       "1     [Dysregulated complement activation is increas...  \n",
       "2     [HOIL-1 ( encoded by the RBCK1 gene ) , HOIP (...  \n",
       "3     [Flexible control of cognitive processes is fu...  \n",
       "4     [Myosin 5a moves in a hand-over-hand fashion w...  \n",
       "...                                                 ...  \n",
       "4311  [Antibodies are immunogenic proteins expressed...  \n",
       "4312  [The eukaryotic genome is packaged into chroma...  \n",
       "4313  [The temporal and spatial heterogeneity of any...  \n",
       "4314  [Correlates of decision variables are routinel...  \n",
       "4315  [‘Precision medicine’ promotes the molecular c...  \n",
       "\n",
       "[4316 rows x 2 columns]"
      ]
     },
     "execution_count": 12,
     "metadata": {},
     "output_type": "execute_result"
    }
   ],
   "source": [
    "IITR_train_df.drop(['Introduction', 'abstract'],inplace=True, axis=1)\n",
    "IITR_test_df.drop(['Introduction', 'abstract'],inplace=True, axis=1)\n",
    "IITR_val_df.drop(['Introduction', 'abstract'],inplace=True, axis=1)\n",
    "IITR_train_df"
   ]
  },
  {
   "cell_type": "markdown",
   "id": "975f7300-6a22-4924-8031-8d983a5582e7",
   "metadata": {},
   "source": [
    "## Convert list instances to String"
   ]
  },
  {
   "cell_type": "code",
   "execution_count": 13,
   "id": "9b29d468-a7e3-4e1c-abe4-9c34aaef93d7",
   "metadata": {},
   "outputs": [],
   "source": [
    "import ast\n",
    "from datasets import Dataset\n",
    "\n",
    "def str_list_to_str(s):\n",
    "    # If it's a list, then join its items into a string\n",
    "    if isinstance(s, list):\n",
    "        return ' '.join(s)\n",
    "    # If it's already a string, return as it is\n",
    "    return s\n",
    "\n",
    "\n",
    "\n",
    "IITR_train_df = IITR_train_df.applymap(str_list_to_str)\n",
    "IITR_test_df = IITR_test_df.applymap(str_list_to_str)\n",
    "IITR_val_df = IITR_val_df.applymap(str_list_to_str)"
   ]
  },
  {
   "cell_type": "code",
   "execution_count": 14,
   "id": "86fa2771-8178-4b44-95e6-a7f3f1d8a900",
   "metadata": {},
   "outputs": [],
   "source": [
    "train_dataset = Dataset.from_pandas(IITR_train_df)\n",
    "val_dataset = Dataset.from_pandas(IITR_val_df)\n",
    "test_dataset = Dataset.from_pandas(IITR_test_df)"
   ]
  },
  {
   "cell_type": "markdown",
   "id": "0b080329-ba75-473b-94da-64cde329ca02",
   "metadata": {},
   "source": [
    "# BART"
   ]
  },
  {
   "cell_type": "code",
   "execution_count": 15,
   "id": "1fe18b01-db2d-4016-9d88-60b11f7ab6c7",
   "metadata": {},
   "outputs": [
    {
     "data": {
      "text/plain": [
       "'cuda'"
      ]
     },
     "execution_count": 15,
     "metadata": {},
     "output_type": "execute_result"
    }
   ],
   "source": [
    "device = \"cuda\" if torch.cuda.is_available() else \"cpu\"\n",
    "device"
   ]
  },
  {
   "cell_type": "code",
   "execution_count": 18,
   "id": "6388994f-2637-45e7-bb16-f87d0510280a",
   "metadata": {},
   "outputs": [],
   "source": [
    "model_ckpt = \"facebook/bart-large-cnn\"\n",
    "model_bart = BartForConditionalGeneration.from_pretrained(model_ckpt).to(device)\n",
    "tokenizer = BartTokenizerFast.from_pretrained(model_ckpt)"
   ]
  },
  {
   "cell_type": "code",
   "execution_count": 19,
   "id": "c8359f3b-6822-4cf8-8c43-7b29211b3ddb",
   "metadata": {},
   "outputs": [],
   "source": [
    "max_input_length = 1024\n",
    "max_target_length = 512"
   ]
  },
  {
   "cell_type": "markdown",
   "id": "fd174aa2-e8e8-496e-853a-5c682b314d9f",
   "metadata": {},
   "source": [
    "# Tokenize data"
   ]
  },
  {
   "cell_type": "code",
   "execution_count": 20,
   "id": "81518e15-1f17-4d91-bf76-d863bf9e3561",
   "metadata": {},
   "outputs": [
    {
     "data": {
      "application/vnd.jupyter.widget-view+json": {
       "model_id": "cf07722ad4e74b21ba198e5bcf9c0a67",
       "version_major": 2,
       "version_minor": 0
      },
      "text/plain": [
       "  0%|          | 0/5 [00:00<?, ?ba/s]"
      ]
     },
     "metadata": {},
     "output_type": "display_data"
    },
    {
     "data": {
      "application/vnd.jupyter.widget-view+json": {
       "model_id": "23954ec453ad47e88f2815bb475e0cd6",
       "version_major": 2,
       "version_minor": 0
      },
      "text/plain": [
       "  0%|          | 0/1 [00:00<?, ?ba/s]"
      ]
     },
     "metadata": {},
     "output_type": "display_data"
    },
    {
     "data": {
      "application/vnd.jupyter.widget-view+json": {
       "model_id": "a1baabee25204b47b3c7ac379b669c10",
       "version_major": 2,
       "version_minor": 0
      },
      "text/plain": [
       "  0%|          | 0/1 [00:00<?, ?ba/s]"
      ]
     },
     "metadata": {},
     "output_type": "display_data"
    }
   ],
   "source": [
    "def tokenize_function(examples):\n",
    "    inputs = tokenizer(examples['intro_abstract_combined'], max_length=max_input_length, padding=\"max_length\", truncation=True)\n",
    "    targets = tokenizer(examples['lay summary'], max_length=max_target_length, padding=\"max_length\", truncation=True)\n",
    "\n",
    "    return {\n",
    "        \"input_ids\": inputs.input_ids,\n",
    "        \"attention_mask\": inputs.attention_mask,\n",
    "        \"labels\": targets.input_ids\n",
    "    }\n",
    "\n",
    "train_dataset = train_dataset.map(tokenize_function, batched=True)\n",
    "val_dataset = val_dataset.map(tokenize_function, batched=True)\n",
    "test_dataset = test_dataset.map(tokenize_function, batched=True)"
   ]
  },
  {
   "cell_type": "markdown",
   "id": "9c275e95-2ebc-4b6c-aaa0-8d3ec1aaec35",
   "metadata": {},
   "source": [
    "# Fine-tuning"
   ]
  },
  {
   "cell_type": "code",
   "execution_count": 21,
   "id": "f280eef9-0fa2-47e2-9fd5-e1e17838d88e",
   "metadata": {},
   "outputs": [],
   "source": [
    "training_args = Seq2SeqTrainingArguments(\n",
    "    output_dir=\"./results\",\n",
    "    num_train_epochs=5,  \n",
    "    per_device_train_batch_size=8,\n",
    "    evaluation_strategy=\"epoch\",\n",
    "    save_strategy='epoch',\n",
    "    logging_dir=\"./logs\",\n",
    "    report_to=\"none\",\n",
    "    fp16=True,\n",
    "    gradient_accumulation_steps=4\n",
    ")"
   ]
  },
  {
   "cell_type": "code",
   "execution_count": 24,
   "id": "f0eec2f6-851f-4589-86bc-92986040000d",
   "metadata": {},
   "outputs": [
    {
     "name": "stderr",
     "output_type": "stream",
     "text": [
      "Using cuda_amp half precision backend\n"
     ]
    }
   ],
   "source": [
    "trainer = Seq2SeqTrainer(\n",
    "    model=model_bart,\n",
    "    args=training_args,\n",
    "    train_dataset=train_dataset,\n",
    "    eval_dataset=val_dataset,\n",
    ")\n"
   ]
  },
  {
   "cell_type": "code",
   "execution_count": 25,
   "id": "64ab4b08-0555-42ab-aa93-7ce211409cf8",
   "metadata": {},
   "outputs": [
    {
     "name": "stderr",
     "output_type": "stream",
     "text": [
      "The following columns in the training set don't have a corresponding argument in `BartForConditionalGeneration.forward` and have been ignored: intro_abstract_combined, lay summary. If intro_abstract_combined, lay summary are not expected by `BartForConditionalGeneration.forward`,  you can safely ignore this message.\n",
      "***** Running training *****\n",
      "  Num examples = 4316\n",
      "  Num Epochs = 5\n",
      "  Instantaneous batch size per device = 8\n",
      "  Total train batch size (w. parallel, distributed & accumulation) = 32\n",
      "  Gradient Accumulation steps = 4\n",
      "  Total optimization steps = 675\n"
     ]
    },
    {
     "data": {
      "text/html": [
       "\n",
       "    <div>\n",
       "      \n",
       "      <progress value='675' max='675' style='width:300px; height:20px; vertical-align: middle;'></progress>\n",
       "      [675/675 29:18, Epoch 5/5]\n",
       "    </div>\n",
       "    <table border=\"1\" class=\"dataframe\">\n",
       "  <thead>\n",
       " <tr style=\"text-align: left;\">\n",
       "      <th>Epoch</th>\n",
       "      <th>Training Loss</th>\n",
       "      <th>Validation Loss</th>\n",
       "    </tr>\n",
       "  </thead>\n",
       "  <tbody>\n",
       "    <tr>\n",
       "      <td>1</td>\n",
       "      <td>No log</td>\n",
       "      <td>1.934365</td>\n",
       "    </tr>\n",
       "    <tr>\n",
       "      <td>2</td>\n",
       "      <td>No log</td>\n",
       "      <td>1.890086</td>\n",
       "    </tr>\n",
       "    <tr>\n",
       "      <td>3</td>\n",
       "      <td>No log</td>\n",
       "      <td>1.878118</td>\n",
       "    </tr>\n",
       "    <tr>\n",
       "      <td>4</td>\n",
       "      <td>1.893000</td>\n",
       "      <td>1.869586</td>\n",
       "    </tr>\n",
       "    <tr>\n",
       "      <td>5</td>\n",
       "      <td>1.893000</td>\n",
       "      <td>1.875278</td>\n",
       "    </tr>\n",
       "  </tbody>\n",
       "</table><p>"
      ],
      "text/plain": [
       "<IPython.core.display.HTML object>"
      ]
     },
     "metadata": {},
     "output_type": "display_data"
    },
    {
     "name": "stderr",
     "output_type": "stream",
     "text": [
      "The following columns in the evaluation set don't have a corresponding argument in `BartForConditionalGeneration.forward` and have been ignored: intro_abstract_combined, lay summary. If intro_abstract_combined, lay summary are not expected by `BartForConditionalGeneration.forward`,  you can safely ignore this message.\n",
      "***** Running Evaluation *****\n",
      "  Num examples = 239\n",
      "  Batch size = 8\n",
      "Saving model checkpoint to ./results/checkpoint-135\n",
      "Configuration saved in ./results/checkpoint-135/config.json\n",
      "Model weights saved in ./results/checkpoint-135/pytorch_model.bin\n",
      "The following columns in the evaluation set don't have a corresponding argument in `BartForConditionalGeneration.forward` and have been ignored: intro_abstract_combined, lay summary. If intro_abstract_combined, lay summary are not expected by `BartForConditionalGeneration.forward`,  you can safely ignore this message.\n",
      "***** Running Evaluation *****\n",
      "  Num examples = 239\n",
      "  Batch size = 8\n",
      "Saving model checkpoint to ./results/checkpoint-270\n",
      "Configuration saved in ./results/checkpoint-270/config.json\n",
      "Model weights saved in ./results/checkpoint-270/pytorch_model.bin\n",
      "The following columns in the evaluation set don't have a corresponding argument in `BartForConditionalGeneration.forward` and have been ignored: intro_abstract_combined, lay summary. If intro_abstract_combined, lay summary are not expected by `BartForConditionalGeneration.forward`,  you can safely ignore this message.\n",
      "***** Running Evaluation *****\n",
      "  Num examples = 239\n",
      "  Batch size = 8\n",
      "Saving model checkpoint to ./results/checkpoint-405\n",
      "Configuration saved in ./results/checkpoint-405/config.json\n",
      "Model weights saved in ./results/checkpoint-405/pytorch_model.bin\n",
      "The following columns in the evaluation set don't have a corresponding argument in `BartForConditionalGeneration.forward` and have been ignored: intro_abstract_combined, lay summary. If intro_abstract_combined, lay summary are not expected by `BartForConditionalGeneration.forward`,  you can safely ignore this message.\n",
      "***** Running Evaluation *****\n",
      "  Num examples = 239\n",
      "  Batch size = 8\n",
      "Saving model checkpoint to ./results/checkpoint-540\n",
      "Configuration saved in ./results/checkpoint-540/config.json\n",
      "Model weights saved in ./results/checkpoint-540/pytorch_model.bin\n",
      "The following columns in the evaluation set don't have a corresponding argument in `BartForConditionalGeneration.forward` and have been ignored: intro_abstract_combined, lay summary. If intro_abstract_combined, lay summary are not expected by `BartForConditionalGeneration.forward`,  you can safely ignore this message.\n",
      "***** Running Evaluation *****\n",
      "  Num examples = 239\n",
      "  Batch size = 8\n",
      "Saving model checkpoint to ./results/checkpoint-675\n",
      "Configuration saved in ./results/checkpoint-675/config.json\n",
      "Model weights saved in ./results/checkpoint-675/pytorch_model.bin\n",
      "\n",
      "\n",
      "Training completed. Do not forget to share your model on huggingface.co/models =)\n",
      "\n",
      "\n"
     ]
    },
    {
     "data": {
      "text/plain": [
       "TrainOutput(global_step=675, training_loss=1.8103749367042825, metrics={'train_runtime': 1761.8702, 'train_samples_per_second': 12.248, 'train_steps_per_second': 0.383, 'total_flos': 4.676611731357696e+16, 'train_loss': 1.8103749367042825, 'epoch': 5.0})"
      ]
     },
     "execution_count": 25,
     "metadata": {},
     "output_type": "execute_result"
    }
   ],
   "source": [
    "os.environ['WANDB_DISABLED'] = 'true'\n",
    "trainer.train()"
   ]
  },
  {
   "cell_type": "code",
   "execution_count": 26,
   "id": "32e41c9d-812b-4b4f-9218-d39910785e88",
   "metadata": {},
   "outputs": [
    {
     "name": "stderr",
     "output_type": "stream",
     "text": [
      "Saving model checkpoint to my_saved_model\n",
      "Configuration saved in my_saved_model/config.json\n",
      "Model weights saved in my_saved_model/pytorch_model.bin\n"
     ]
    }
   ],
   "source": [
    "#trainer.save_model('my_saved_model')\n",
    "#model_bart.save_pretrained(\"saved_the_model_bart\")\n",
    "#tokenizer.save_pretrained(\"saved_the_tokenizer.save_pretrained\")"
   ]
  },
  {
   "cell_type": "markdown",
   "id": "c71ff81f-89e0-4bfc-8eb4-e57718b1279f",
   "metadata": {},
   "source": [
    "# Inference"
   ]
  },
  {
   "cell_type": "code",
   "execution_count": null,
   "id": "87ff8b18-216d-4d27-ba90-382f54a5f4a3",
   "metadata": {},
   "outputs": [],
   "source": []
  }
 ],
 "metadata": {
  "kernelspec": {
   "display_name": "Python 3 (ipykernel)",
   "language": "python",
   "name": "python3"
  },
  "language_info": {
   "codemirror_mode": {
    "name": "ipython",
    "version": 3
   },
   "file_extension": ".py",
   "mimetype": "text/x-python",
   "name": "python",
   "nbconvert_exporter": "python",
   "pygments_lexer": "ipython3",
   "version": "3.9.16"
  }
 },
 "nbformat": 4,
 "nbformat_minor": 5
}
